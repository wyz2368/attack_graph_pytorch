{
 "cells": [
  {
   "cell_type": "code",
   "execution_count": 1,
   "metadata": {},
   "outputs": [
    {
     "data": {
      "text/html": [
       "<style>\n",
       ".output_wrapper, .output {\n",
       "    height:auto !important;\n",
       "    max-height: 999999999999 in;  /* your desired max-height here */\n",
       "}\n",
       ".output_scroll {\n",
       "    box-shadow:none !important;\n",
       "    webkit-box-shadow:none !important;\n",
       "}\n",
       "</style>\n"
      ],
      "text/plain": [
       "<IPython.core.display.HTML object>"
      ]
     },
     "metadata": {},
     "output_type": "display_data"
    }
   ],
   "source": [
    "%%html\n",
    "<style>\n",
    ".output_wrapper, .output {\n",
    "    height:auto !important;\n",
    "    max-height: 999999999999 in;  /* your desired max-height here */\n",
    "}\n",
    ".output_scroll {\n",
    "    box-shadow:none !important;\n",
    "    webkit-box-shadow:none !important;\n",
    "}\n",
    "</style>"
   ]
  },
  {
   "cell_type": "code",
   "execution_count": 2,
   "metadata": {
    "scrolled": true
   },
   "outputs": [],
   "source": [
    "%matplotlib inline\n",
    "import os\n",
    "import os.path as osp\n",
    "\n",
    "from IPython.display import display, Image, Markdown\n",
    "from ipywidgets import interact, interactive\n",
    "import ipywidgets as widgets \n",
    "import matplotlib.pylab as plt\n",
    "import numpy as np\n",
    "import pickle\n",
    "\n",
    "from attackgraph import settings\n",
    "import attackgraph.gambit_analysis as gambit_ops\n",
    "import attackgraph.common.plot_ops as plot_ops\n",
    "\n",
    "np.set_printoptions(precision=2)\n",
    "RESULTS_DIR = settings.get_results_dir()"
   ]
  },
  {
   "cell_type": "code",
   "execution_count": 5,
   "metadata": {
    "scrolled": true
   },
   "outputs": [],
   "source": [
    "def display_result(run_name: str=\"\"):\n",
    "    \"\"\"\n",
    "    \n",
    "    :param run_name: Name of the run.\n",
    "    :type run_name: str\n",
    "    \"\"\"\n",
    "    if run_name is None:\n",
    "        return\n",
    "    run_dir = osp.join(RESULTS_DIR, run_name)\n",
    "    display(Markdown(f\"# {osp.basename(run_dir)}\"))\n",
    "    display(run_dir)\n",
    "    \n",
    "    # Render the empirical game.\n",
    "    display(Markdown(\"## Empirical Game\\n * Row: Defender \\n * Col: Attacker \\n\"))\n",
    "    nfg_path = osp.join(run_dir, \"payoff_matrix.nfg\")\n",
    "    payoff_defender, payoff_attacker = gambit_ops.read_normal_form_game_file(nfg_path)\n",
    "    n_rows, n_cols = payoff_attacker.shape\n",
    "    payoff_render = \"| |\" + \"\".join([f\" {x} |\" for x in range(n_cols)]) + \"\\n\"\n",
    "    payoff_render += \"| \" + \"--- |\"*(n_cols+1) + \"\\n\"\n",
    "    for row in range(n_cols):\n",
    "        payoff_render += f\"| {row} |\"\n",
    "        for col in range(n_rows):\n",
    "            payoff_render += f\" {payoff_defender[row][col]:.2f}, {payoff_attacker[row][col]:.2f} |\"\n",
    "        payoff_render += \"\\n\"\n",
    "    display(Markdown(payoff_render))\n",
    "    \n",
    "    # Print out each epoch of EGTA.\n",
    "    for epoch in range(1, n_rows):\n",
    "        display(Markdown(f\"## Epoch {epoch}\"))\n",
    "        \n",
    "        # Attacker.\n",
    "        r_attacker = osp.join(run_dir, f\"mean_rewards.attacker.{epoch+1}\")\n",
    "        try:\n",
    "            if not osp.exists(r_attacker+\".png\"):\n",
    "                plot_ops.generate_and_save_line_plot(\n",
    "                    r_attacker+\".pkl\", \n",
    "                    f\"Attacker {epoch}\",\n",
    "                    \"Timestep\",\n",
    "                    \"Average Reward\")\n",
    "            display(Image(r_attacker+\".png\"))\n",
    "            plt.close()\n",
    "        except:\n",
    "            pass\n",
    "        \n",
    "        # Defender.\n",
    "        r_defender = osp.join(run_dir, f\"mean_rewards.defender.{epoch+1}\")\n",
    "        try:\n",
    "            if not osp.exists(r_defender+\".png\"):\n",
    "                plot_ops.generate_and_save_line_plot(\n",
    "                    r_defender+\".pkl\", \n",
    "                    f\"Defender {epoch}\",\n",
    "                    \"Timestep\",\n",
    "                    \"Average Reward\")\n",
    "            display(Image(r_defender+\".png\"))\n",
    "            plt.close()\n",
    "        except:\n",
    "            pass\n",
    "        \n",
    "    \n",
    "    "
   ]
  },
  {
   "cell_type": "code",
   "execution_count": 6,
   "metadata": {
    "scrolled": true
   },
   "outputs": [
    {
     "data": {
      "application/vnd.jupyter.widget-view+json": {
       "model_id": "d609b52084114d908d4a646e86cb4a70",
       "version_major": 2,
       "version_minor": 0
      },
      "text/plain": [
       "interactive(children=(Dropdown(description='Run: ', options=('08_11_dqn_state_enc', '08_11_gpu_dqn', '08_12_dq…"
      ]
     },
     "metadata": {},
     "output_type": "display_data"
    }
   ],
   "source": [
    "# Collect the names of every run result.\n",
    "run_names = [x for x in os.listdir(RESULTS_DIR) if osp.isdir(osp.join(RESULTS_DIR, x))]\n",
    "run_names = sorted(run_names)\n",
    "\n",
    "run_name_widget = widgets.Dropdown(\n",
    "    options=run_names,\n",
    "    description=\"Run: \")\n",
    "\n",
    "display(interactive(\n",
    "    display_result,\n",
    "    run_name=run_name_widget))"
   ]
  },
  {
   "cell_type": "code",
   "execution_count": null,
   "metadata": {
    "scrolled": true
   },
   "outputs": [],
   "source": []
  }
 ],
 "metadata": {
  "kernelspec": {
   "display_name": "Python 3",
   "language": "python",
   "name": "python3"
  },
  "language_info": {
   "codemirror_mode": {
    "name": "ipython",
    "version": 3
   },
   "file_extension": ".py",
   "mimetype": "text/x-python",
   "name": "python",
   "nbconvert_exporter": "python",
   "pygments_lexer": "ipython3",
   "version": "3.7.3"
  }
 },
 "nbformat": 4,
 "nbformat_minor": 2
}
