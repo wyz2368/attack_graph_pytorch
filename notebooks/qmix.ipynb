{
 "cells": [
  {
   "cell_type": "code",
   "execution_count": 1,
   "metadata": {},
   "outputs": [
    {
     "data": {
      "text/html": [
       "<style>\n",
       ".output_wrapper, .output {\n",
       "    height:auto !important;\n",
       "    max-height: 999999999999 in;  /* your desired max-height here */\n",
       "}\n",
       ".output_scroll {\n",
       "    box-shadow:none !important;\n",
       "    webkit-box-shadow:none !important;\n",
       "}\n",
       "</style>\n"
      ],
      "text/plain": [
       "<IPython.core.display.HTML object>"
      ]
     },
     "metadata": {},
     "output_type": "display_data"
    }
   ],
   "source": [
    "%%html\n",
    "<style>\n",
    ".output_wrapper, .output {\n",
    "    height:auto !important;\n",
    "    max-height: 999999999999 in;  /* your desired max-height here */\n",
    "}\n",
    ".output_scroll {\n",
    "    box-shadow:none !important;\n",
    "    webkit-box-shadow:none !important;\n",
    "}\n",
    "</style>"
   ]
  },
  {
   "cell_type": "code",
   "execution_count": 2,
   "metadata": {
    "scrolled": true
   },
   "outputs": [],
   "source": [
    "%matplotlib inline\n",
    "import ast\n",
    "import os\n",
    "import os.path as osp\n",
    "from glob import glob\n",
    "\n",
    "from IPython.display import display, Image, Markdown\n",
    "from ipywidgets import interact, interactive\n",
    "import ipywidgets as widgets \n",
    "import matplotlib.pylab as plt\n",
    "import numpy as np\n",
    "import pickle\n",
    "\n",
    "from attackgraph import settings\n",
    "import attackgraph.gambit_analysis as gambit_ops\n",
    "import attackgraph.common.plot_ops as plot_ops\n",
    "\n",
    "np.set_printoptions(precision=2)\n",
    "RESULTS_DIR = settings.get_results_dir()"
   ]
  },
  {
   "cell_type": "code",
   "execution_count": 3,
   "metadata": {
    "scrolled": true
   },
   "outputs": [],
   "source": [
    "def display_result(run_name: str=\"\"):\n",
    "    \"\"\"\n",
    "    \n",
    "    :param run_name: Name of the run.\n",
    "    :type run_name: str\n",
    "    \"\"\"\n",
    "    if run_name is None:\n",
    "        return\n",
    "    run_dir = osp.join(RESULTS_DIR, run_name)\n",
    "    display(Markdown(f\"# {osp.basename(run_dir)}\"))\n",
    "    display(run_dir)    \n",
    "    \n",
    "    # Display the opponent's mixture.\n",
    "    config_filepath = osp.join(run_dir, \"config.txt\")\n",
    "    with open(config_filepath, \"r\") as config_file:\n",
    "        lines = [line.rstrip(\"\\n\") for line in config_file]\n",
    "        # Parse out the \"evaluate_qmix.mixture\" line.\n",
    "        mixture = [x for x in lines if \"mixture\" in x][0]\n",
    "        # Now we have \"mixture = [0.3, ....]\", and need to get the mixing coefficients.\n",
    "        equal_index = mixture.find('=')        \n",
    "        mixture = mixture[24:]\n",
    "        # Now we have \"[0.3, ...]\" and need to parse it into a list.\n",
    "        mixture = ast.literal_eval(mixture)\n",
    "        mixture = np.array(mixture)\n",
    "        print(\"Mixture: \", mixture)            \n",
    "        \n",
    "    # Parse out the various opponent simulated rewards.\n",
    "    log_filepath = osp.join(run_dir, \"out.log\")\n",
    "    with open(log_filepath, \"r\") as log_file:\n",
    "        lines = [line.rstrip(\"\\n\") for line in log_file]\n",
    "        simulated_rewards = [x for x in lines if \"Opponent\" in x and \"vs.\" not in x]      \n",
    "        simulated_rewards = [float(x.split(' ')[9].strip(',')) for x in simulated_rewards]\n",
    "        print(simulated_rewards)\n",
    "        \n",
    "    sim_qmix_rewards = simulated_rewards[:3]\n",
    "    sim_qmix_statefreq_rewards = simulated_rewards[3:6]\n",
    "    sim_br_mixture_rewards = simulated_rewards[6:]            \n",
    "            \n",
    "    # Display pure strategy learning curves.\n",
    "    display(Markdown(\"## Best Response to Pure Strategy\"))\n",
    "    reward_files = glob(osp.join(run_dir, \"mean_rewards.*.pkl\"))\n",
    "    reward_files = [x for x in reward_files if \"mixture\" not in x]\n",
    "    for opp_i, reward_filepath in enumerate(reward_files):\n",
    "        with open(reward_filepath, \"rb\") as reward_file:\n",
    "            rewards = pickle.load(reward_file)\n",
    "            \n",
    "            fig, ax = plt.subplots()\n",
    "        \n",
    "            plt.plot(np.arange(len(rewards)), rewards)\n",
    "            # plt.axhline(y=sim_qmix_rewards[opp_i], color='c', linestyle='-')\n",
    "            # plt.axhline(y=sim_qmix_statefreq_rewards[opp_i], color='m', linestyle='-')\n",
    "            ax.set_title(osp.basename(reward_filepath).replace(\"_\", \"\\_\"))\n",
    "            ax.set_ylabel(\"Mean 250ep Return\")\n",
    "            ax.set_xlabel(\"Timestep\")\n",
    "            plt.show()\n",
    "            plt.close()\n",
    "        \n",
    "    # Load the QMixture's simulated payoff.\n",
    "    display(Markdown(\"## QMixture's Simulated Performance\"))\n",
    "    print(sim_qmix_rewards)\n",
    "    sim_qmix_mix_reward = np.sum(sim_qmix_rewards * mixture)\n",
    "    sim_qmix_statefreq_mix_reward = np.sum(sim_qmix_statefreq_rewards * mixture)\n",
    "    \n",
    "    display(Markdown(f\" - Q-Mix: {np.sum(sim_qmix_mix_reward)}\"))\n",
    "    display(Markdown(f\" - Q-Mix w/ State-Freq: {sim_qmix_statefreq_mix_reward}\"))\n",
    "    \n",
    "    # Display the mixture-opponent learning curve with QMixture's payoff overlayed.\n",
    "    display(Markdown(\"## Best Response to Mixed Strategy\"))\n",
    "    reward_files = glob(osp.join(run_dir, \"mean_rewards.*.pkl\"))\n",
    "    reward_filepath = [x for x in reward_files if \"mixture\" in x][0]\n",
    "    with open(reward_filepath, \"rb\") as reward_file:\n",
    "        rewards = pickle.load(reward_file)\n",
    "\n",
    "        fig, ax = plt.subplots()\n",
    "        plt.plot(np.arange(len(rewards)), rewards)\n",
    "        #plt.axhline(y=sim_qmix_mix_reward, color='c', linestyle='-')\n",
    "        #plt.axhline(y=sim_qmix_statefreq_mix_reward, color='m', linestyle='-')\n",
    "        ax.set_title(osp.basename(reward_filepath).replace(\"_\", \"\\_\"))\n",
    "        ax.set_ylabel(\"Mean 250ep Return\")\n",
    "        ax.set_xlabel(\"Timestep\")\n",
    "        plt.show()\n",
    "        plt.close()    \n",
    "    "
   ]
  },
  {
   "cell_type": "code",
   "execution_count": 4,
   "metadata": {
    "scrolled": true
   },
   "outputs": [
    {
     "data": {
      "application/vnd.jupyter.widget-view+json": {
       "model_id": "c36aa3fe5c80474aabb1607c0718cdbf",
       "version_major": 2,
       "version_minor": 0
      },
      "text/plain": [
       "interactive(children=(Dropdown(description='Run: ', options=('08', '09_09_dqn_tanh_fast_dist', '09_11_dqn_tanh…"
      ]
     },
     "metadata": {},
     "output_type": "display_data"
    }
   ],
   "source": [
    "# Collect the names of every run result.\n",
    "run_names = [x for x in os.listdir(RESULTS_DIR) if osp.isdir(osp.join(RESULTS_DIR, x))]\n",
    "run_names = sorted(run_names)\n",
    "\n",
    "run_name_widget = widgets.Dropdown(\n",
    "    options=run_names,\n",
    "    description=\"Run: \")\n",
    "\n",
    "display(interactive(\n",
    "    display_result,\n",
    "    run_name=run_name_widget))"
   ]
  },
  {
   "cell_type": "code",
   "execution_count": null,
   "metadata": {
    "scrolled": true
   },
   "outputs": [],
   "source": []
  },
  {
   "cell_type": "code",
   "execution_count": null,
   "metadata": {},
   "outputs": [],
   "source": []
  }
 ],
 "metadata": {
  "kernelspec": {
   "display_name": "Python 3",
   "language": "python",
   "name": "python3"
  },
  "language_info": {
   "codemirror_mode": {
    "name": "ipython",
    "version": 3
   },
   "file_extension": ".py",
   "mimetype": "text/x-python",
   "name": "python",
   "nbconvert_exporter": "python",
   "pygments_lexer": "ipython3",
   "version": "3.7.3"
  }
 },
 "nbformat": 4,
 "nbformat_minor": 2
}
