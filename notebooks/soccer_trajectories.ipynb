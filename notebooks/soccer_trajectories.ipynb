{
 "cells": [
  {
   "cell_type": "code",
   "execution_count": 1,
   "metadata": {},
   "outputs": [
    {
     "data": {
      "text/html": [
       "<style>\n",
       ".output_wrapper, .output {\n",
       "    height:auto !important;\n",
       "    max-height: 999999999999 in;  /* your desired max-height here */\n",
       "}\n",
       ".output_scroll {\n",
       "    box-shadow:none !important;\n",
       "    webkit-box-shadow:none !important;\n",
       "}\n",
       "</style>\n"
      ],
      "text/plain": [
       "<IPython.core.display.HTML object>"
      ]
     },
     "metadata": {},
     "output_type": "display_data"
    }
   ],
   "source": [
    "%%html\n",
    "<style>\n",
    ".output_wrapper, .output {\n",
    "    height:auto !important;\n",
    "    max-height: 999999999999 in;  /* your desired max-height here */\n",
    "}\n",
    ".output_scroll {\n",
    "    box-shadow:none !important;\n",
    "    webkit-box-shadow:none !important;\n",
    "}\n",
    "</style>"
   ]
  },
  {
   "cell_type": "code",
   "execution_count": 3,
   "metadata": {},
   "outputs": [],
   "source": [
    "%matplotlib inline\n",
    "import ast\n",
    "import os\n",
    "import os.path as osp\n",
    "from glob import glob\n",
    "\n",
    "from IPython.display import display, Image, Markdown\n",
    "from ipywidgets import interact, interactive\n",
    "import ipywidgets as widgets \n",
    "import matplotlib.pylab as plt\n",
    "import numpy as np\n",
    "import pickle\n",
    "import gin\n",
    "import torch\n",
    "\n",
    "from attackgraph import settings\n",
    "from attackgraph.soccer.envs.gridworld_soccer import GridWorldSoccer\n",
    "from attackgraph.rl.dqn.dqn import DQN\n",
    "import attackgraph.gambit_analysis as gambit_ops\n",
    "import attackgraph.common.plot_ops as plot_ops\n",
    "import attackgraph.soccer.policies as player2_policies\n",
    "import attackgraph.soccer.qmixing_main\n",
    "\n",
    "\n",
    "np.set_printoptions(precision=2)\n",
    "RESULTS_DIR = settings.get_results_dir()\n",
    "\n",
    "gin.parse_config_file(osp.join(settings.SRC_DIR, \"configs\", \"soccer_qmix.gin\"))"
   ]
  },
  {
   "cell_type": "code",
   "execution_count": 10,
   "metadata": {},
   "outputs": [],
   "source": [
    "def render_trajectory(p1_path, p2):\n",
    "    # Load the player's policy.\n",
    "    p1 = torch.load(p1_path)\n",
    "    p1.eval()\n",
    "    \n",
    "    t = 0\n",
    "    p1_return = 0.0\n",
    "    p2_return = 0.0\n",
    "    \n",
    "    # Run an episode.\n",
    "    env = GridWorldSoccer()\n",
    "    o = env.reset()\n",
    "    print(env.render())\n",
    "    \n",
    "    while True:\n",
    "        a1 = p1(observation=o[1][None], stochastic=True, update_eps=-1, mask=None, training_attacker=False)\n",
    "        a2 = p2(observation=o[2], stochastic=True, update_eps=-1, mask=None, training_attacker=False)\n",
    "    \n",
    "        o, r, d, _ =env.step({1: a1, 2: a2})\n",
    "        print(env.render(), '\\n')\n",
    "        \n",
    "        p1_return += r[1]\n",
    "        p2_return += r[2]\n",
    "        \n",
    "        if d:\n",
    "            break\n",
    "        if t > 100:\n",
    "            break\n",
    "        t += 1\n",
    "    print(f\"\\nFinal Returns:\\n\\t- P1: {p1_return}\\n\\t- P2: {p2_return}\")\n",
    "\n",
    "\n",
    "def display_result(policy_path, opponent_id):\n",
    "    \"\"\" Display the trajectories of the soccer training.\n",
    "    \n",
    "    :param run_name: Name of the run.\n",
    "    :type run_name: str\n",
    "    \"\"\"\n",
    "    policy_path = osp.join(RESULTS_DIR, policy_path)\n",
    "    opponent = {\n",
    "        0: player2_policies.Player2v0(),\n",
    "        1: player2_policies.Player2v1(),\n",
    "        2: player2_policies.Player2v2(),\n",
    "        3: player2_policies.Player2v3(),\n",
    "        4: player2_policies.Player2v4(),        \n",
    "    }[opponent_id]\n",
    "    \n",
    "    print(f\"Policy: {policy_path}\")\n",
    "    print(f\"Opponent: {opponent}\")\n",
    "    \n",
    "    render_trajectory(policy_path, opponent)\n",
    "    "
   ]
  },
  {
   "cell_type": "code",
   "execution_count": 9,
   "metadata": {},
   "outputs": [
    {
     "data": {
      "application/vnd.jupyter.widget-view+json": {
       "model_id": "3f618ccfab794851b34bc786fbe1ef5e",
       "version_major": 2,
       "version_minor": 0
      },
      "text/plain": [
       "interactive(children=(Text(value='', description='Policy Path: '), Dropdown(description='Opponent: ', options=…"
      ]
     },
     "metadata": {},
     "output_type": "display_data"
    }
   ],
   "source": [
    "policy_path_widget = widgets.Text(\n",
    "    description=\"Policy Path: \",\n",
    "    default=\"soccer1/qmix.pkl\")\n",
    "opponent_widget = widgets.Dropdown(\n",
    "    options=[0, 1, 2, 3, 4],\n",
    "    value=0,\n",
    "    description='Opponent: ')\n",
    "\n",
    "display(interactive(\n",
    "    display_result,\n",
    "    policy_path=policy_path_widget,\n",
    "    opponent_id=opponent_widget))"
   ]
  },
  {
   "cell_type": "code",
   "execution_count": null,
   "metadata": {},
   "outputs": [],
   "source": []
  }
 ],
 "metadata": {
  "kernelspec": {
   "display_name": "Python 3",
   "language": "python",
   "name": "python3"
  },
  "language_info": {
   "codemirror_mode": {
    "name": "ipython",
    "version": 3
   },
   "file_extension": ".py",
   "mimetype": "text/x-python",
   "name": "python",
   "nbconvert_exporter": "python",
   "pygments_lexer": "ipython3",
   "version": "3.7.3"
  }
 },
 "nbformat": 4,
 "nbformat_minor": 2
}
