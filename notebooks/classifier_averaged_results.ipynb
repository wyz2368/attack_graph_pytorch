{
 "cells": [
  {
   "cell_type": "code",
   "execution_count": 1,
   "metadata": {},
   "outputs": [
    {
     "data": {
      "text/html": [
       "<style>\n",
       ".output_wrapper, .output {\n",
       "    height:auto !important;\n",
       "    max-height: 999999999999 in;  /* your desired max-height here */\n",
       "}\n",
       ".output_scroll {\n",
       "    box-shadow:none !important;\n",
       "    webkit-box-shadow:none !important;\n",
       "}\n",
       "</style>\n"
      ],
      "text/plain": [
       "<IPython.core.display.HTML object>"
      ]
     },
     "metadata": {},
     "output_type": "display_data"
    }
   ],
   "source": [
    "%%html\n",
    "<style>\n",
    ".output_wrapper, .output {\n",
    "    height:auto !important;\n",
    "    max-height: 999999999999 in;  /* your desired max-height here */\n",
    "}\n",
    ".output_scroll {\n",
    "    box-shadow:none !important;\n",
    "    webkit-box-shadow:none !important;\n",
    "}\n",
    "</style>"
   ]
  },
  {
   "cell_type": "code",
   "execution_count": 2,
   "metadata": {},
   "outputs": [],
   "source": [
    "%matplotlib inline\n",
    "import ast\n",
    "import os\n",
    "import os.path as osp\n",
    "from glob import glob\n",
    "\n",
    "from IPython.display import display, Image, Markdown\n",
    "from ipywidgets import interact, interactive\n",
    "import ipywidgets as widgets \n",
    "import matplotlib.pylab as plt\n",
    "import numpy as np\n",
    "import pandas as pd\n",
    "import pickle\n",
    "from tensorflow.python.summary.summary_iterator import summary_iterator\n",
    "\n",
    "from attackgraph import settings\n",
    "import attackgraph.gambit_analysis as gambit_ops\n",
    "import attackgraph.common.plot_ops as plot_ops\n",
    "\n",
    "np.set_printoptions(precision=2)\n",
    "RESULTS_DIR = settings.get_results_dir()"
   ]
  },
  {
   "cell_type": "code",
   "execution_count": 16,
   "metadata": {},
   "outputs": [],
   "source": [
    "def parse_metrics_from_event(run_name):    \n",
    "    # Find event file.\n",
    "    event_file = max(glob(osp.join(RESULTS_DIR, run_name, \"events.*\")), key=os.path.getctime)\n",
    "    print(f\"Loading: {event_file}\")\n",
    "\n",
    "    # Collect all of the event file data.\n",
    "    # We will pre-fix each value with the time-stamp because \n",
    "    # the summary data has no ordering guarantees.\n",
    "    metrics = {}    \n",
    "    for event in summary_iterator(event_file):\n",
    "        t = event.step\n",
    "        \n",
    "        for value in event.summary.value:\n",
    "            if value.tag not in metrics:\n",
    "                metrics[value.tag] = []\n",
    "            metrics[value.tag] += [(t, value.simple_value)]\n",
    "        \n",
    "        if t > 50000:\n",
    "            break\n",
    "        \n",
    "    # Sort each metric by timestep.\n",
    "    for metric, values in metrics.items():\n",
    "        values = sorted(values, key=lambda x: x[1])\n",
    "        values = [x[1] for x in values]\n",
    "        metrics[metric] = values\n",
    "    \n",
    "    return metrics"
   ]
  },
  {
   "cell_type": "code",
   "execution_count": 17,
   "metadata": {},
   "outputs": [
    {
     "name": "stdout",
     "output_type": "stream",
     "text": [
      "Loading: /home/mxsmith/projects/attack_graph/attackgraph/../results/10_25_distill_0/events.out.tfevents.1572011072.rldl10\n",
      "Loading: /home/mxsmith/projects/attack_graph/attackgraph/../results/10_25_distill_1/events.out.tfevents.1572011075.rldl10\n",
      "Loading: /home/mxsmith/projects/attack_graph/attackgraph/../results/10_25_distill_2/events.out.tfevents.1572011072.rldl10\n",
      "Loading: /home/mxsmith/projects/attack_graph/attackgraph/../results/10_25_distill_3/events.out.tfevents.1572011073.rldl10\n",
      "Loading: /home/mxsmith/projects/attack_graph/attackgraph/../results/10_25_distill_4/events.out.tfevents.1572011072.rldl10\n"
     ]
    }
   ],
   "source": [
    "metrics = [parse_metrics_from_event(f\"10_29_classify_{i}\") for i in range(5)]"
   ]
  },
  {
   "cell_type": "code",
   "execution_count": 22,
   "metadata": {},
   "outputs": [
    {
     "data": {
      "image/png": "[encoded data removed]",
      "text/plain": [
       "<Figure size 600x500 with 1 Axes>"
      ]
     },
     "metadata": {
      "needs_background": "light"
     },
     "output_type": "display_data"
    }
   ],
   "source": [
    "fig, ax = plt.subplots(figsize=(6,5), dpi=100)\n",
    "\n",
    "avg = collect(\"reward/mean\")  # [N-Runs, T].\n",
    "avg = np.mean(avg, axis=0)   # [T].\n",
    "\n",
    "std = collect(\"reward/std\")    # [N-Runs, T].\n",
    "std = np.sqrt(np.sum(std**2, axis=0))  # [T].\n",
    "\n",
    "plt.plot(avg, label=\"Student\")\n",
    "plt.fill_between(\n",
    "    np.arange(len(avg)),\n",
    "    avg - std,\n",
    "    avg + std,\n",
    "    alpha=0.2)\n",
    "\n",
    "plt.axhline(y=target_mean, color='orange', label=\"Teacher\")\n",
    "plt.fill_between(\n",
    "    np.arange(len(avg)),\n",
    "    target_mean - target_std,\n",
    "    target_mean + target_std,\n",
    "    alpha=0.2)\n",
    "\n",
    "ax.set_xlim([0, x_lim])\n",
    "\n",
    "ax.set_title(\"Reward During Policy Distillation\")\n",
    "ax.set_ylabel(\"Average Return\")\n",
    "ax.set_xlabel(\"Time\")\n",
    "\n",
    "ax.legend(loc=\"lower right\")\n",
    "\n",
    "plt.show()"
   ]
  },
  {
   "cell_type": "code",
   "execution_count": null,
   "metadata": {},
   "outputs": [],
   "source": []
  }
 ],
 "metadata": {
  "kernelspec": {
   "display_name": "Python 3",
   "language": "python",
   "name": "python3"
  },
  "language_info": {
   "codemirror_mode": {
    "name": "ipython",
    "version": 3
   },
   "file_extension": ".py",
   "mimetype": "text/x-python",
   "name": "python",
   "nbconvert_exporter": "python",
   "pygments_lexer": "ipython3",
   "version": "3.6.8"
  }
 },
 "nbformat": 4,
 "nbformat_minor": 2
}
