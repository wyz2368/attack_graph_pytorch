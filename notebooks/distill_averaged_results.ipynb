{
 "cells": [
  {
   "cell_type": "code",
   "execution_count": 1,
   "metadata": {},
   "outputs": [
    {
     "data": {
      "text/html": [
       "<style>\n",
       ".output_wrapper, .output {\n",
       "    height:auto !important;\n",
       "    max-height: 999999999999 in;  /* your desired max-height here */\n",
       "}\n",
       ".output_scroll {\n",
       "    box-shadow:none !important;\n",
       "    webkit-box-shadow:none !important;\n",
       "}\n",
       "</style>\n"
      ],
      "text/plain": [
       "<IPython.core.display.HTML object>"
      ]
     },
     "metadata": {},
     "output_type": "display_data"
    }
   ],
   "source": [
    "%%html\n",
    "<style>\n",
    ".output_wrapper, .output {\n",
    "    height:auto !important;\n",
    "    max-height: 999999999999 in;  /* your desired max-height here */\n",
    "}\n",
    ".output_scroll {\n",
    "    box-shadow:none !important;\n",
    "    webkit-box-shadow:none !important;\n",
    "}\n",
    "</style>"
   ]
  },
  {
   "cell_type": "code",
   "execution_count": 2,
   "metadata": {},
   "outputs": [],
   "source": [
    "%matplotlib inline\n",
    "import ast\n",
    "import os\n",
    "import os.path as osp\n",
    "from glob import glob\n",
    "\n",
    "from IPython.display import display, Image, Markdown\n",
    "from ipywidgets import interact, interactive\n",
    "import ipywidgets as widgets \n",
    "import matplotlib.pylab as plt\n",
    "import numpy as np\n",
    "import pandas as pd\n",
    "import pickle\n",
    "from tensorflow.python.summary.summary_iterator import summary_iterator\n",
    "\n",
    "from attackgraph import settings\n",
    "import attackgraph.gambit_analysis as gambit_ops\n",
    "import attackgraph.common.plot_ops as plot_ops\n",
    "\n",
    "# Set the font to match AAMAS.\n",
    "import matplotlib\n",
    "import matplotlib.font_manager as font_manager\n",
    "font_dirs = [\"/Users/max/Library/Fonts/\"]\n",
    "font_files = font_manager.findSystemFonts(fontpaths=font_dirs)\n",
    "font_list = font_manager.createFontList(font_files)\n",
    "font_manager.fontManager.ttflist.extend(font_list)\n",
    "matplotlib.rcParams['font.family'] = \"Linux Libertine O\"\n",
    "\n",
    "np.set_printoptions(precision=2)\n",
    "RESULTS_DIR = settings.get_results_dir()"
   ]
  },
  {
   "cell_type": "code",
   "execution_count": 3,
   "metadata": {},
   "outputs": [],
   "source": [
    "def parse_metrics_from_event(run_name):    \n",
    "    # Find event file.\n",
    "    event_file = max(glob(osp.join(RESULTS_DIR, run_name, \"events.*\")), key=os.path.getctime)\n",
    "    print(f\"Loading: {event_file}\")\n",
    "\n",
    "    # Collect all of the event file data.\n",
    "    # We will pre-fix each value with the time-stamp because \n",
    "    # the summary data has no ordering guarantees.\n",
    "    metrics = {}    \n",
    "    for event in summary_iterator(event_file):\n",
    "        t = event.step\n",
    "        \n",
    "        for value in event.summary.value:\n",
    "            if value.tag not in metrics:\n",
    "                metrics[value.tag] = []\n",
    "            metrics[value.tag] += [(t, value.simple_value)]\n",
    "        \n",
    "        if t > 50000:\n",
    "            break\n",
    "        \n",
    "    # Sort each metric by timestep.\n",
    "    for metric, values in metrics.items():\n",
    "        values = sorted(values, key=lambda x: x[1])\n",
    "        values = [x[1] for x in values]\n",
    "        metrics[metric] = values\n",
    "    \n",
    "    return metrics"
   ]
  },
  {
   "cell_type": "code",
   "execution_count": 4,
   "metadata": {},
   "outputs": [
    {
     "name": "stderr",
     "output_type": "stream",
     "text": [
      "WARNING: Logging before flag parsing goes to stderr.\n",
      "W1111 12:58:59.380965 4502040000 deprecation.py:323] From /usr/local/anaconda3/envs/bgg/lib/python3.7/site-packages/tensorflow/python/summary/summary_iterator.py:68: tf_record_iterator (from tensorflow.python.lib.io.tf_record) is deprecated and will be removed in a future version.\n",
      "Instructions for updating:\n",
      "Use eager execution and: \n",
      "`tf.data.TFRecordDataset(path)`\n"
     ]
    },
    {
     "name": "stdout",
     "output_type": "stream",
     "text": [
      "Loading: /Users/max/projects/attack_graph/attackgraph/../results/10_25_distill_0/events.out.tfevents.1572011072.rldl10\n",
      "Loading: /Users/max/projects/attack_graph/attackgraph/../results/10_25_distill_1/events.out.tfevents.1572011075.rldl10\n",
      "Loading: /Users/max/projects/attack_graph/attackgraph/../results/10_25_distill_2/events.out.tfevents.1572011072.rldl10\n",
      "Loading: /Users/max/projects/attack_graph/attackgraph/../results/10_25_distill_3/events.out.tfevents.1572011073.rldl10\n",
      "Loading: /Users/max/projects/attack_graph/attackgraph/../results/10_25_distill_4/events.out.tfevents.1572011072.rldl10\n"
     ]
    }
   ],
   "source": [
    "metrics = [parse_metrics_from_event(f\"10_25_distill_{i}\") for i in range(5)]"
   ]
  },
  {
   "cell_type": "code",
   "execution_count": 5,
   "metadata": {},
   "outputs": [],
   "source": [
    "metrics[0].keys()\n",
    "\n",
    "x_lim = 10000"
   ]
  },
  {
   "cell_type": "code",
   "execution_count": 6,
   "metadata": {},
   "outputs": [],
   "source": [
    "def collect(name):\n",
    "    \"\"\" Collect the metric data. \"\"\"\n",
    "    data = []\n",
    "    for run in metrics:\n",
    "        data += [np.array(run[name][:x_lim])]\n",
    "    data = np.array(data)  # [N-Run, T].\n",
    "    return data"
   ]
  },
  {
   "cell_type": "code",
   "execution_count": 7,
   "metadata": {},
   "outputs": [],
   "source": [
    "def parse_teacher_rewards(run_name):    \n",
    "    outfile = osp.join(RESULTS_DIR, run_name, \"out.log\")\n",
    "    print(f\"Loading: {outfile}\")\n",
    "    with open(outfile, \"r\") as outfile:\n",
    "        log = [x.strip() for x in outfile.readlines()]\n",
    "    \n",
    "    for line in log:\n",
    "        if \"Teacher reward:\" in line:\n",
    "            tokens = line.split(' ')\n",
    "            avg = float(tokens[-2].strip(','))\n",
    "            std = float(tokens[-1])\n",
    "            return avg, std"
   ]
  },
  {
   "cell_type": "code",
   "execution_count": 8,
   "metadata": {},
   "outputs": [
    {
     "name": "stdout",
     "output_type": "stream",
     "text": [
      "Loading: /Users/max/projects/attack_graph/attackgraph/../results/10_25_distill_0/out.log\n",
      "Loading: /Users/max/projects/attack_graph/attackgraph/../results/10_25_distill_1/out.log\n",
      "Loading: /Users/max/projects/attack_graph/attackgraph/../results/10_25_distill_2/out.log\n",
      "Loading: /Users/max/projects/attack_graph/attackgraph/../results/10_25_distill_3/out.log\n",
      "Loading: /Users/max/projects/attack_graph/attackgraph/../results/10_25_distill_4/out.log\n"
     ]
    }
   ],
   "source": [
    "targets = [parse_teacher_rewards(f\"10_25_distill_{i}\") for i in range(5)]\n",
    "target_mean = np.mean([x[0] for x in targets])\n",
    "target_std = [x[1] for x in targets]\n",
    "target_std = np.sqrt(np.sum(np.array(target_std)**2))"
   ]
  },
  {
   "cell_type": "code",
   "execution_count": 10,
   "metadata": {},
   "outputs": [
    {
     "data": {
      "image/png": "[encoded data removed]",
      "text/plain": [
       "<Figure size 1500x1200 with 1 Axes>"
      ]
     },
     "metadata": {
      "needs_background": "light"
     },
     "output_type": "display_data"
    }
   ],
   "source": [
    "cmap = matplotlib.cm.get_cmap(\"Paired\")\n",
    "blue = cmap(0.70)\n",
    "yellow = cmap(0.80)\n",
    "\n",
    "fig, ax = plt.subplots(figsize=(5,4), dpi=300)\n",
    "\n",
    "avg = collect(\"reward/mean\")  # [N-Runs, T].\n",
    "avg = np.mean(avg, axis=0)   # [T].\n",
    "\n",
    "std = collect(\"reward/std\")    # [N-Runs, T].\n",
    "std = np.sqrt(np.sum(std**2, axis=0))  # [T].\n",
    "\n",
    "plt.plot(avg, label=\"Student\", color=blue, linestyle=\"--\")\n",
    "# plt.fill_between(\n",
    "#     np.arange(len(avg)),\n",
    "#     avg - std,\n",
    "#     avg + std,\n",
    "#     alpha=0.2)\n",
    "\n",
    "plt.axhline(y=target_mean, color=yellow, label=\"Teacher\")\n",
    "# plt.fill_between(\n",
    "#     np.arange(len(avg)),\n",
    "#     target_mean - target_std,\n",
    "#     target_mean + target_std,\n",
    "#     alpha=0.2)\n",
    "\n",
    "ax.set_xlim([0, x_lim])\n",
    "ax.set_ylim([-200, -100])\n",
    "\n",
    "ax.set_title(\"Reward During Policy Distillation\")\n",
    "ax.set_ylabel(\"Average Return\")\n",
    "ax.set_xlabel(\"Time\")\n",
    "\n",
    "ax.legend(loc=\"lower right\")\n",
    "\n",
    "plt.show()"
   ]
  },
  {
   "cell_type": "code",
   "execution_count": 11,
   "metadata": {},
   "outputs": [
    {
     "data": {
      "text/plain": [
       "48.411557036425066"
      ]
     },
     "execution_count": 11,
     "metadata": {},
     "output_type": "execute_result"
    }
   ],
   "source": [
    "target_std"
   ]
  },
  {
   "cell_type": "code",
   "execution_count": 12,
   "metadata": {},
   "outputs": [
    {
     "data": {
      "text/plain": [
       "array([40.27, 40.66, 40.97, ..., 63.94, 65.27, 66.36])"
      ]
     },
     "execution_count": 12,
     "metadata": {},
     "output_type": "execute_result"
    }
   ],
   "source": [
    "std"
   ]
  },
  {
   "cell_type": "code",
   "execution_count": 13,
   "metadata": {},
   "outputs": [
    {
     "data": {
      "text/plain": [
       "50.13011512532656"
      ]
     },
     "execution_count": 13,
     "metadata": {},
     "output_type": "execute_result"
    }
   ],
   "source": [
    "std[4000]"
   ]
  },
  {
   "cell_type": "code",
   "execution_count": 14,
   "metadata": {},
   "outputs": [
    {
     "data": {
      "text/plain": [
       "-152.40957336425782"
      ]
     },
     "execution_count": 14,
     "metadata": {},
     "output_type": "execute_result"
    }
   ],
   "source": [
    "avg[4000]"
   ]
  },
  {
   "cell_type": "code",
   "execution_count": 16,
   "metadata": {},
   "outputs": [
    {
     "data": {
      "text/plain": [
       "-151.80787986341358"
      ]
     },
     "execution_count": 16,
     "metadata": {},
     "output_type": "execute_result"
    }
   ],
   "source": [
    "target_mean"
   ]
  },
  {
   "cell_type": "code",
   "execution_count": null,
   "metadata": {},
   "outputs": [],
   "source": []
  }
 ],
 "metadata": {
  "kernelspec": {
   "display_name": "Python 3",
   "language": "python",
   "name": "python3"
  },
  "language_info": {
   "codemirror_mode": {
    "name": "ipython",
    "version": 3
   },
   "file_extension": ".py",
   "mimetype": "text/x-python",
   "name": "python",
   "nbconvert_exporter": "python",
   "pygments_lexer": "ipython3",
   "version": "3.7.3"
  }
 },
 "nbformat": 4,
 "nbformat_minor": 2
}
